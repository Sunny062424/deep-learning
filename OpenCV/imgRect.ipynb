{
 "cells": [
  {
   "cell_type": "code",
   "execution_count": 1,
   "metadata": {},
   "outputs": [],
   "source": [
    "#라이브러리 선언\n",
    "import os\n",
    "import cv2"
   ]
  },
  {
   "cell_type": "code",
   "execution_count": 10,
   "metadata": {},
   "outputs": [
    {
     "data": {
      "text/plain": [
       "(768, 1024, 3)"
      ]
     },
     "execution_count": 10,
     "metadata": {},
     "output_type": "execute_result"
    }
   ],
   "source": [
    "imgpath = \"./images_sy/doll.jpg\"\n",
    "img = cv2.imread(imgpath, cv2.IMREAD_COLOR)\n",
    "img.shape"
   ]
  },
  {
   "cell_type": "code",
   "execution_count": 7,
   "metadata": {},
   "outputs": [],
   "source": [
    "def imgCenterRect(img):\n",
    "    height, width, channels = img.shape  # 이미지의 크기를 변수에 저장\n",
    "    img_height = height\n",
    "    img_width = width\n",
    "    ratio = 2\n",
    "    \n",
    "    rect_width = 350 #이 부분의 변수 수정을 통해 사각형의 사이즈 조절 가능\n",
    "    rect_height = rect_width // ratio\n",
    "    \n",
    "    # 좌측 상단 점 좌표\n",
    "    top_x = img_width // 2 - rect_width // 2\n",
    "    top_y = img_height // 2 - rect_height // 2\n",
    "    \n",
    "    # 우측 하단 점 좌표\n",
    "    bottom_x = img_width // 2 + rect_width // 2\n",
    "    bottom_y = img_height // 2 + rect_height // 2\n",
    "    \n",
    "    img_rect = cv2.rectangle(img.copy(), (top_x, top_y),  # 좌측상단\n",
    "                             (bottom_x, bottom_y),  # 우측하단\n",
    "                             (0, 255, 0),  # 컬러 값\n",
    "                             2)  # 선 두께\n",
    "    return img_rect"
   ]
  },
  {
   "cell_type": "code",
   "execution_count": 4,
   "metadata": {},
   "outputs": [],
   "source": [
    "#사진 출력 함수\n",
    "def imgWindow(img):\n",
    "    cv2.imshow('Image with Rectangle', img)\n",
    "    inputKey = cv2.waitKey(0)\n",
    "    cv2.destroyAllWindows()"
   ]
  },
  {
   "cell_type": "code",
   "execution_count": 11,
   "metadata": {},
   "outputs": [],
   "source": [
    "imgRect = imgCenterRect(img)"
   ]
  },
  {
   "cell_type": "code",
   "execution_count": 12,
   "metadata": {},
   "outputs": [],
   "source": [
    "imgWindow(imgRect)"
   ]
  }
 ],
 "metadata": {
  "kernelspec": {
   "display_name": "Python 3",
   "language": "python",
   "name": "python3"
  },
  "language_info": {
   "codemirror_mode": {
    "name": "ipython",
    "version": 3
   },
   "file_extension": ".py",
   "mimetype": "text/x-python",
   "name": "python",
   "nbconvert_exporter": "python",
   "pygments_lexer": "ipython3",
   "version": "3.10.4"
  },
  "orig_nbformat": 4
 },
 "nbformat": 4,
 "nbformat_minor": 2
}
